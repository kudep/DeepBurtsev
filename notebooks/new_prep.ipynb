{
 "cells": [
  {
   "cell_type": "code",
   "execution_count": 1,
   "metadata": {},
   "outputs": [],
   "source": [
    "import pandas as pd\n",
    "import numpy as np\n",
    "import re\n",
    "import os\n",
    "import nltk\n",
    "import pymorphy2\n",
    "morph = pymorphy2.MorphAnalyzer()\n",
    "import json\n",
    "\n",
    "from os.path import join\n",
    "from sklearn.model_selection import StratifiedShuffleSplit\n",
    "from fasttext import load_model\n",
    "from tqdm import tqdm\n",
    "\n",
    "#visualization\n",
    "%matplotlib inline\n",
    "import matplotlib.pyplot as plt\n",
    "from matplotlib import rc\n",
    "\n",
    "import random"
   ]
  },
  {
   "cell_type": "markdown",
   "metadata": {},
   "source": [
    "## Разделение данных"
   ]
  },
  {
   "cell_type": "code",
   "execution_count": 2,
   "metadata": {},
   "outputs": [
    {
     "name": "stderr",
     "output_type": "stream",
     "text": [
      "/home/mks/intent/lib/python3.6/site-packages/IPython/core/interactiveshell.py:2850: DtypeWarning: Columns (6,7,10,14) have mixed types. Specify dtype option on import or set low_memory=False.\n",
      "  if self.run_code(code, result):\n"
     ]
    }
   ],
   "source": [
    "def read_dataset(filepath, duplicates=False, clean=True):\n",
    "    file = open(filepath, 'r', encoding='ISO-8859-1')\n",
    "    data = pd.read_csv(file)\n",
    "\n",
    "    old_names = data.keys()\n",
    "    names = [n.encode('ISO-8859-1').decode('cp1251').encode('utf8') for n in old_names]\n",
    "    names = [n.decode('utf-8') for n in names]\n",
    "\n",
    "    new_data = dict()\n",
    "    for old, new in zip(old_names, names):\n",
    "        new_data[new] = list()\n",
    "        for c in data[old]:\n",
    "            try:\n",
    "                s = c.encode('ISO-8859-1').decode('cp1251').encode('utf8')\n",
    "                s = s.decode('utf-8')\n",
    "                new_data[new].append(s)\n",
    "            except AttributeError:\n",
    "                new_data[new].append(c)\n",
    "\n",
    "    new_data = pd.DataFrame(new_data, columns=['Описание', 'Категория жалобы'])\n",
    "    new_data.rename(columns={'Описание': 'request', 'Категория жалобы': 'class'}, inplace=True)\n",
    "    new_data = new_data.dropna()  # dell nan\n",
    "    if not duplicates:\n",
    "        new_data = new_data.drop_duplicates()  # dell duplicates\n",
    "\n",
    "    # как отдельную ветвь можно использовать\n",
    "    if clean:\n",
    "        delete_bad_symbols = lambda x: \" \".join(re.sub('[^а-яa-zё0-9]', ' ', x.lower()).split())\n",
    "        new_data['request'] = new_data['request'].apply(delete_bad_symbols)\n",
    "\n",
    "    new_data = new_data.reset_index()\n",
    "    new_data = new_data.drop('index', axis=1)\n",
    "\n",
    "    return new_data\n",
    "\n",
    "\n",
    "path = '../data/vkusvill_all_categories.csv'\n",
    "global_data = read_dataset(path)"
   ]
  },
  {
   "cell_type": "code",
   "execution_count": 46,
   "metadata": {},
   "outputs": [
    {
     "name": "stdout",
     "output_type": "stream",
     "text": [
      "{1: 3288, 2: 5312, 3: 6791, 4: 1366, 5: 80, 6: 9600, 7: 3634, 8: 442, 9: 906, 10: 3501, 11: 2039, 12: 2287, 13: 3568, 14: 205, 15: 1188, 16: 922, 17: 42}\n"
     ]
    }
   ],
   "source": [
    "dd = dict()\n",
    "cd = dict()\n",
    "\n",
    "for x, y in zip(global_data['request'], global_data['class']):\n",
    "    if y not in dd.keys():\n",
    "        dd[y] = list()\n",
    "        cd[y] = 0\n",
    "        dd[y].append((x, y))\n",
    "        cd[y] += 1\n",
    "    else:\n",
    "        dd[y].append((x, y))\n",
    "        cd[y] += 1\n",
    "\n",
    "# print(dd[1])\n",
    "print(cd)"
   ]
  },
  {
   "cell_type": "code",
   "execution_count": 47,
   "metadata": {},
   "outputs": [],
   "source": [
    "prop = [0.1, 0.1]\n",
    "\n",
    "if type(prop) is list:\n",
    "    assert len(prop) == 2\n",
    "    assert type(prop[0]) is float\n",
    "\n",
    "    valid_ = dict()\n",
    "    test_ = dict()\n",
    "\n",
    "    for x in dd.keys():\n",
    "        num = int(cd[x]*prop[0])\n",
    "        valid_[x] = random.sample(dd[x], num)\n",
    "        [dd[x].remove(t) for t in valid_[x]]\n",
    "\n",
    "    for x in dd.keys():\n",
    "        num = int(cd[x]*prop[1])\n",
    "        test_[x] = random.sample(dd[x], num)\n",
    "        [dd[x].remove(t) for t in test_[x]]\n",
    "else:\n",
    "    raise ValueError('Split proportion must be list of floats, with length = 2')\n",
    "\n",
    "train_ = dd"
   ]
  },
  {
   "cell_type": "code",
   "execution_count": 48,
   "metadata": {},
   "outputs": [],
   "source": [
    "train, valid, test = list(), list(), list()\n",
    "\n",
    "\n",
    "for x in train_.keys():\n",
    "    for z_, z in zip([train_, valid_, test_], [train, valid, test]):\n",
    "        z.extend(z_[x])\n",
    "\n",
    "del train_, valid_, test_, dd\n",
    "\n",
    "for z in [train, valid, test]:\n",
    "    z = random.shuffle(z)"
   ]
  },
  {
   "cell_type": "code",
   "execution_count": 50,
   "metadata": {},
   "outputs": [],
   "source": [
    "utrain, uvalid, utest, ctrain, cvalid, ctest = list(), list(), list(), list(), list(), list()"
   ]
  },
  {
   "cell_type": "code",
   "execution_count": 51,
   "metadata": {},
   "outputs": [],
   "source": [
    "for z, n, c in zip([train, valid, test], [utrain, uvalid, utest], [ctrain, cvalid, ctest]):\n",
    "    for x in z:\n",
    "        n.append(x[0])\n",
    "        c.append(x[1])"
   ]
  },
  {
   "cell_type": "code",
   "execution_count": 53,
   "metadata": {},
   "outputs": [],
   "source": [
    "train = pd.DataFrame({'request': utrain,\n",
    "                     'class': ctrain})\n",
    "valid = pd.DataFrame({'request': uvalid,\n",
    "                     'class': cvalid})\n",
    "test = pd.DataFrame({'request': utest,\n",
    "                     'class': ctest})"
   ]
  },
  {
   "cell_type": "code",
   "execution_count": 15,
   "metadata": {},
   "outputs": [],
   "source": [
    "# test"
   ]
  },
  {
   "cell_type": "code",
   "execution_count": 55,
   "metadata": {},
   "outputs": [
    {
     "data": {
      "image/png": "[encoded data removed]",
      "text/plain": [
       "<matplotlib.figure.Figure at 0x7f3d775e8438>"
      ]
     },
     "metadata": {},
     "output_type": "display_data"
    }
   ],
   "source": [
    "fig, ax = plt.subplots()\n",
    "fig.set_figwidth(15)\n",
    "\n",
    "plt.subplot(1, 2, 1)\n",
    "plt.title('Distribution global train')\n",
    "plt.hist(train['class'], bins=17)  # 70\n",
    "\n",
    "plt.subplot(1, 2, 2)\n",
    "plt.title('Distribution train')\n",
    "plt.hist(test['class'], bins=17)  # 70\n",
    "plt.show()"
   ]
  },
  {
   "cell_type": "markdown",
   "metadata": {},
   "source": [
    "## Отработка препроцессинга в классе pipeline"
   ]
  },
  {
   "cell_type": "code",
   "execution_count": 3,
   "metadata": {},
   "outputs": [],
   "source": [
    "import random\n",
    "import pandas as pd\n",
    "from typing import Generator\n",
    "from sklearn.model_selection import train_test_split\n",
    "\n",
    "\n",
    "class Dataset(object):\n",
    "    def __init__(self, data, seed=None, split=True, splitting_proportions=None,\n",
    "                 *args, **kwargs):\n",
    "\n",
    "        rs = random.getstate()\n",
    "        random.seed(seed)\n",
    "        self.random_state = random.getstate()\n",
    "        random.setstate(rs)\n",
    "\n",
    "        if splitting_proportions is None:\n",
    "            self.splitting_proportions = [0.1, 0.1]\n",
    "        else:\n",
    "            self.splitting_proportions = splitting_proportions\n",
    "\n",
    "        if not split:\n",
    "            self.train = data.get('train', [])\n",
    "            self.test = data.get('test', [])\n",
    "            try:\n",
    "                self.valid = data.get('valid', [])\n",
    "                self.data = {'train': {'base': self.train},\n",
    "                             'test': {'base': self.test},\n",
    "                             'valid': {'base': self.valid},\n",
    "                             'all': self.train + self.test}\n",
    "            except KeyError:\n",
    "                self.data = {'train': {'base': self.train},\n",
    "                             'test': {'base': self.test},\n",
    "                             'all': self.train + self.test}\n",
    "        else:\n",
    "            self.train, self.valid, self.test = self.split_data(data)\n",
    "            self.data = {'train': {'base': self.train},\n",
    "                         'test': {'base': self.test},\n",
    "                         'valid': {'base': self.valid},\n",
    "                         'all': self.train + self.test}\n",
    "\n",
    "        self.data['classes'] = data['class'].unique()  # np.array\n",
    "\n",
    "    def batch_generator(self, batch_size: int, data_type: str = 'train') -> Generator:\n",
    "        r\"\"\"This function returns a generator, which serves for generation of raw (no preprocessing such as tokenization)\n",
    "         batches\n",
    "        Args:\n",
    "            batch_size (int): number of samples in batch\n",
    "            data_type (str): can be either 'train', 'test', or 'valid'\n",
    "        Returns:\n",
    "            batch_gen (Generator): a generator, that iterates through the part (defined by data_type) of the dataset\n",
    "        \"\"\"\n",
    "        data = self.data[data_type]\n",
    "        data_len = len(data)\n",
    "        order = list(range(data_len))\n",
    "\n",
    "        rs = random.getstate()\n",
    "        random.setstate(self.random_state)\n",
    "        random.shuffle(order)\n",
    "        self.random_state = random.getstate()\n",
    "        random.setstate(rs)\n",
    "\n",
    "        # for i in range((data_len - 1) // batch_size + 1):\n",
    "        #     yield list(zip(*[data[o] for o in order[i * batch_size:(i + 1) * batch_size]]))\n",
    "        for i in range((data_len - 1) // batch_size + 1):\n",
    "            o = order[i * batch_size:(i + 1) * batch_size]\n",
    "            yield list((list(data['request'][o]), list(data['class'][o])))\n",
    "\n",
    "    def iter_all(self, data_type: str = 'train') -> Generator:\n",
    "        \"\"\"\n",
    "        Iterate through all data. It can be used for building dictionary or\n",
    "        Args:\n",
    "            data_type (str): can be either 'train', 'test', or 'valid'\n",
    "        Returns:\n",
    "            samples_gen: a generator, that iterates through the all samples in the selected data type of the dataset\n",
    "        \"\"\"\n",
    "        data = self.data[data_type]\n",
    "        for x, y in zip(data['request'], data['class']):\n",
    "            yield (x, y)\n",
    "\n",
    "    def _split_data(self, splitting_proportions, field_to_split, splitted_fields):\n",
    "        data_to_div = self.data[field_to_split].copy()\n",
    "        data_size = len(self.data[field_to_split])\n",
    "        for i in range(len(splitted_fields) - 1):\n",
    "            self.data[splitted_fields[i]], data_to_div = train_test_split(data_to_div,\n",
    "                                                                          test_size=\n",
    "                                                                          len(data_to_div) -\n",
    "                                                                          int(data_size * splitting_proportions[i]))\n",
    "        self.data[splitted_fields[-1]] = data_to_div\n",
    "        return True\n",
    "\n",
    "    def split_data(self, dataset):\n",
    "\n",
    "        dd = dict()\n",
    "        cd = dict()\n",
    "        train = list()\n",
    "        valid = list()\n",
    "        test = list()\n",
    "\n",
    "        for x, y in zip(dataset['request'], dataset['class']):\n",
    "            if y not in dd.keys():\n",
    "                dd[y] = list()\n",
    "                cd[y] = 0\n",
    "                dd[y].append((x, y))\n",
    "                cd[y] += 1\n",
    "            else:\n",
    "                dd[y].append((x, y))\n",
    "                cd[y] += 1\n",
    "\n",
    "        if type(self.splitting_proportions) is list:\n",
    "            assert len(self.splitting_proportions) == 2\n",
    "            assert type(self.splitting_proportions[0]) is float\n",
    "\n",
    "            valid_ = dict()\n",
    "            test_ = dict()\n",
    "\n",
    "            for x in dd.keys():\n",
    "                num = int(cd[x] * self.splitting_proportions[0])\n",
    "                valid_[x] = random.sample(dd[x], num)\n",
    "                [dd[x].remove(t) for t in valid_[x]]\n",
    "\n",
    "            for x in dd.keys():\n",
    "                num = int(cd[x] * self.splitting_proportions[1])\n",
    "                test_[x] = random.sample(dd[x], num)\n",
    "                [dd[x].remove(t) for t in test_[x]]\n",
    "        else:\n",
    "            raise ValueError('Split proportion must be list of floats, with length = 2')\n",
    "\n",
    "        train_ = dd\n",
    "\n",
    "        for x in train_.keys():\n",
    "            for z_, z in zip([train_, valid_, test_], [train, valid, test]):\n",
    "                z.extend(z_[x])\n",
    "\n",
    "        del train_, valid_, test_, dd, cd, dataset  # really need ?\n",
    "\n",
    "        for z in [train, valid, test]:\n",
    "            z = random.shuffle(z)\n",
    "\n",
    "        utrain, uvalid, utest, ctrain, cvalid, ctest = list(), list(), list(), list(), list(), list()\n",
    "        for z, n, c in zip([train, valid, test], [utrain, uvalid, utest], [ctrain, cvalid, ctest]):\n",
    "            for x in z:\n",
    "                n.append(x[0])\n",
    "                c.append(x[1])\n",
    "\n",
    "        train = pd.DataFrame({'request': utrain,\n",
    "                              'class': ctrain})\n",
    "        valid = pd.DataFrame({'request': uvalid,\n",
    "                              'class': cvalid})\n",
    "        test = pd.DataFrame({'request': utest,\n",
    "                             'class': ctest})\n",
    "\n",
    "        return train, valid, test\n",
    "\n",
    "    def _merge_data(self, fields_to_merge):\n",
    "        data = self.data.copy()\n",
    "        new_name = [s + '_' for s in fields_to_merge]\n",
    "        data[new_name] = []\n",
    "        for name in fields_to_merge:\n",
    "            data[new_name] += self.data[name]\n",
    "        self.data = data\n",
    "        return True\n"
   ]
  },
  {
   "cell_type": "code",
   "execution_count": 4,
   "metadata": {},
   "outputs": [
    {
     "name": "stderr",
     "output_type": "stream",
     "text": [
      "/home/mks/intent/lib/python3.6/site-packages/IPython/core/interactiveshell.py:2850: DtypeWarning: Columns (6,7,10,14) have mixed types. Specify dtype option on import or set low_memory=False.\n",
      "  if self.run_code(code, result):\n"
     ]
    }
   ],
   "source": [
    "path = '../data/vkusvill_all_categories.csv'\n",
    "global_data = read_dataset(path)\n",
    "\n",
    "dataset = Dataset(global_data, seed=42)"
   ]
  },
  {
   "cell_type": "markdown",
   "metadata": {},
   "source": [
    "### Cleaning"
   ]
  },
  {
   "cell_type": "code",
   "execution_count": 127,
   "metadata": {},
   "outputs": [],
   "source": [
    "config = {'nan': True, 'repeat': True}\n",
    "def clean(data):\n",
    "    if config['nan']:\n",
    "        data = data.dropna()\n",
    "    if config['repeat']:\n",
    "        data = data.drop_duplicates()\n",
    "    return data\n",
    "\n",
    "for x in ['train', 'valid', 'test']:\n",
    "    dataset.data[x]['base'] = clean(dataset.data[x]['base'])"
   ]
  },
  {
   "cell_type": "code",
   "execution_count": 128,
   "metadata": {},
   "outputs": [
    {
     "name": "stdout",
     "output_type": "stream",
     "text": [
      "[ 1  2  3  4  5  6  7  8  9 10 11 12 13 14 15 16 17]\n"
     ]
    }
   ],
   "source": [
    "print(dataset.data['classes'])"
   ]
  },
  {
   "cell_type": "markdown",
   "metadata": {},
   "source": [
    "### Transformation "
   ]
  },
  {
   "cell_type": "code",
   "execution_count": 6,
   "metadata": {},
   "outputs": [],
   "source": [
    "def transform(data, lower=True, lemma=True, ngramm=False):\n",
    "    Tokens = list()\n",
    "    for x in tqdm(data['request']):\n",
    "        sent_toks = nltk.sent_tokenize(x)\n",
    "        word_toks = [nltk.word_tokenize(el) for el in sent_toks]\n",
    "        tokens = [val for sublist in word_toks for val in sublist]\n",
    "        tokens = [el for el in tokens if el != '']\n",
    "        if lower:\n",
    "            tokens = [el.lower() for el in tokens]\n",
    "        if lemma:\n",
    "            tokens = [morph.parse(el)[0].normal_form for el in tokens]\n",
    "        if ngramm:\n",
    "            bigram = list(nltk.bigrams(tokens))\n",
    "            bigram = ['_'.join(x) for x in bigram]\n",
    "            tokens.extend(bigram)\n",
    "\n",
    "        Tokens.append(' '.join(tokens))\n",
    "    \n",
    "    df = pd.DataFrame({'request': Tokens,\n",
    "                       'class': data['class']})\n",
    "    return df"
   ]
  },
  {
   "cell_type": "code",
   "execution_count": 8,
   "metadata": {},
   "outputs": [
    {
     "name": "stderr",
     "output_type": "stream",
     "text": [
      "100%|██████████| 4510/4510 [00:30<00:00, 150.27it/s]\n"
     ]
    }
   ],
   "source": [
    "dataset.data['test']['mod1'] = transform(dataset.data['test']['base'])"
   ]
  },
  {
   "cell_type": "code",
   "execution_count": 30,
   "metadata": {},
   "outputs": [
    {
     "data": {
      "text/plain": [
       "'молоко цельный вечно горький молоко_цельный цельный_вечно вечно_горький'"
      ]
     },
     "execution_count": 30,
     "metadata": {},
     "output_type": "execute_result"
    }
   ],
   "source": [
    "dataset.data['train']['mod1']['request'][0]\n",
    "# b = list(nltk.bigrams(dataset.data['test']['base']['request'][0].split()))\n",
    "# c = ['_'.join([x[0], x[1]]) for x in b]\n",
    "# print(c)"
   ]
  },
  {
   "cell_type": "markdown",
   "metadata": {},
   "source": [
    "### Vectorization"
   ]
  },
  {
   "cell_type": "code",
   "execution_count": 9,
   "metadata": {},
   "outputs": [],
   "source": [
    "from sklearn.feature_extraction.text import CountVectorizer, TfidfVectorizer\n",
    "from fasttext import load_model\n"
   ]
  },
  {
   "cell_type": "code",
   "execution_count": 12,
   "metadata": {},
   "outputs": [],
   "source": [
    "cvec = CountVectorizer(min_df=5)\n",
    "tfvec = TfidfVectorizer()\n",
    "fast = load_model('/home/mks/projects/intent_classification_script/embeddings/ft_0.8.3_nltk_yalen_sg_300.bin')"
   ]
  },
  {
   "cell_type": "code",
   "execution_count": 10,
   "metadata": {},
   "outputs": [],
   "source": [
    "# vec = cvec.fit_transform(dataset.data['test']['mod1']['request'])\n",
    "# print(type(vec), vec)"
   ]
  },
  {
   "cell_type": "code",
   "execution_count": 11,
   "metadata": {},
   "outputs": [],
   "source": [
    "# vec = tfvec.fit_transform(dataset.data['test']['mod1']['request'])\n",
    "# print(type(vec), vec)"
   ]
  },
  {
   "cell_type": "code",
   "execution_count": 63,
   "metadata": {},
   "outputs": [],
   "source": [
    "config = {'lemma': True,\n",
    "          'lower': True,\n",
    "          'n-gram': False,\n",
    "          'vectorization': {'count': False,\n",
    "                            'tf-idf': False,\n",
    "                            'fasttext': True},\n",
    "          'model': {'name': 'CNN', 'model_config': None},\n",
    "          'fasttext_model': '/home/mks/projects/intent_classification_script/embeddings/ft_0.8.3_nltk_yalen_sg_300.bin'}\n",
    "\n",
    "opt = {'text_size': 25, 'embedding_size': 300}\n",
    "\n",
    "# vectorizers\n",
    "if config['vectorization']['count']:\n",
    "    vectorizer = CountVectorizer(min_df=5)  # tokenizer=self.tokenizer,\n",
    "    config['tokenization'] = False\n",
    "elif config['vectorization']['tf-idf']:\n",
    "    vectorizer = TfidfVectorizer()  # tokenizer=self.tokenizer\n",
    "    config['tokenization'] = False\n",
    "elif config['vectorization']['fasttext']:\n",
    "    vectorizer = load_model(config['fasttext_model'])\n",
    "    config['tokenization'] = True\n",
    "else:\n",
    "    raise NotImplementedError('Not implemented vectorizer.')\n",
    "\n",
    "\n",
    "def vectorization(data, train=False):\n",
    "    # vectorization\n",
    "    if not config['tokenization']:\n",
    "        if train:\n",
    "            vec = vectorizer.fit_transform(data)\n",
    "        else:\n",
    "            vec = vectorizer.transform(data)\n",
    "    else:\n",
    "        data = tokenize(data)\n",
    "        if config['model']['name'] == 'CNN':\n",
    "            vec = np.zeros((len(data), opt['text_size'], opt['embedding_size']))\n",
    "            for j, x in enumerate(data):\n",
    "                for i, y in enumerate(x):\n",
    "                    if i < opt['text_size']:\n",
    "                        vec[j, i] = vectorizer[y]\n",
    "                    else:\n",
    "                        break\n",
    "        else:\n",
    "            raise NotImplementedError()\n",
    "\n",
    "    return vec"
   ]
  },
  {
   "cell_type": "code",
   "execution_count": 64,
   "metadata": {},
   "outputs": [],
   "source": [
    "def tokenize(data):\n",
    "    tok_data = list()\n",
    "    for x in data:\n",
    "        sent_toks = nltk.sent_tokenize(x)\n",
    "        word_toks = [nltk.word_tokenize(el) for el in sent_toks]\n",
    "        tokens = [val for sublist in word_toks for val in sublist]\n",
    "        tok_data.append(tokens)\n",
    "    \n",
    "    return tok_data"
   ]
  },
  {
   "cell_type": "code",
   "execution_count": 65,
   "metadata": {},
   "outputs": [
    {
     "name": "stdout",
     "output_type": "stream",
     "text": [
      "<class 'numpy.ndarray'>\n"
     ]
    }
   ],
   "source": [
    "vec = vectorization(dataset.data['test']['mod1']['request'], train=True)\n",
    "print(type(vec))"
   ]
  },
  {
   "cell_type": "code",
   "execution_count": 66,
   "metadata": {},
   "outputs": [
    {
     "name": "stdout",
     "output_type": "stream",
     "text": [
      "(4510, 25, 300)\n"
     ]
    }
   ],
   "source": [
    "print(vec.shape)"
   ]
  },
  {
   "cell_type": "code",
   "execution_count": 69,
   "metadata": {},
   "outputs": [
    {
     "data": {
      "text/plain": [
       "array([[-0.14035489, -0.13090529, -0.09723529, ...,  0.15279828,\n",
       "        -0.01083812,  0.17575984],\n",
       "       [ 0.261812  , -0.14000453, -0.20303327, ..., -0.05384609,\n",
       "         0.23644029,  0.35637239],\n",
       "       [-0.00729258,  0.06335171, -0.10834117, ...,  0.08143774,\n",
       "        -0.0148092 ,  0.17577673],\n",
       "       ...,\n",
       "       [-0.16455102,  0.04506007, -0.01742407, ...,  0.00662705,\n",
       "         0.09478074,  0.091369  ],\n",
       "       [ 0.        ,  0.        ,  0.        , ...,  0.        ,\n",
       "         0.        ,  0.        ],\n",
       "       [ 0.        ,  0.        ,  0.        , ...,  0.        ,\n",
       "         0.        ,  0.        ]])"
      ]
     },
     "execution_count": 69,
     "metadata": {},
     "output_type": "execute_result"
    }
   ],
   "source": [
    "vec[0]"
   ]
  },
  {
   "cell_type": "code",
   "execution_count": 58,
   "metadata": {},
   "outputs": [],
   "source": []
  },
  {
   "cell_type": "code",
   "execution_count": null,
   "metadata": {},
   "outputs": [],
   "source": []
  }
 ],
 "metadata": {
  "kernelspec": {
   "display_name": "Python 3",
   "language": "python",
   "name": "python3"
  },
  "language_info": {
   "codemirror_mode": {
    "name": "ipython",
    "version": 3
   },
   "file_extension": ".py",
   "mimetype": "text/x-python",
   "name": "python",
   "nbconvert_exporter": "python",
   "pygments_lexer": "ipython3",
   "version": "3.6.3"
  }
 },
 "nbformat": 4,
 "nbformat_minor": 2
}
