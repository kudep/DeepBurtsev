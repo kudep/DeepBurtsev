{
 "cells": [
  {
   "cell_type": "code",
   "execution_count": 1,
   "metadata": {},
   "outputs": [],
   "source": [
    "import pandas as pd\n",
    "import numpy as np\n",
    "import re\n",
    "import os\n",
    "import nltk\n",
    "import pymorphy2\n",
    "import json\n",
    "\n",
    "from os.path import join\n",
    "from sklearn.model_selection import StratifiedShuffleSplit\n",
    "from fasttext import load_model\n",
    "from tqdm import tqdm\n",
    "\n",
    "#visualization\n",
    "%matplotlib inline\n",
    "import matplotlib.pyplot as plt\n",
    "from matplotlib import rc"
   ]
  },
  {
   "cell_type": "code",
   "execution_count": 2,
   "metadata": {},
   "outputs": [],
   "source": [
    "def read_dataset(filepath, duplicates=False, clean=True):\n",
    "    \n",
    "    file = open(filepath, 'r', encoding='ISO-8859-1')\n",
    "    data = pd.read_csv(file)\n",
    "    \n",
    "    old_names = data.keys()\n",
    "    names = [n.encode('ISO-8859-1').decode('cp1251').encode('utf8') for n in old_names]\n",
    "    names = [n.decode('utf-8') for n in names]\n",
    "    \n",
    "    new_data = dict()\n",
    "    for old, new in zip(old_names, names):\n",
    "        new_data[new] = list()\n",
    "        for c in data[old]:\n",
    "            try:\n",
    "                s = c.encode('ISO-8859-1').decode('cp1251').encode('utf8')\n",
    "                s = s.decode('utf-8')\n",
    "                new_data[new].append(s)\n",
    "            except AttributeError:\n",
    "                new_data[new].append(c)\n",
    "    \n",
    "    new_data = pd.DataFrame(new_data, columns=['Описание', 'Категория жалобы'])\n",
    "    new_data.rename(columns={'Описание': 'req', 'Категория жалобы': 'cat'}, inplace=True)\n",
    "    new_data = new_data.dropna()  # dell nan\n",
    "    if not duplicates:\n",
    "        new_data = new_data.drop_duplicates()  # dell duplicates\n",
    "    \n",
    "    # как отдельную ветвь можно использовать\n",
    "    if clean:\n",
    "        delete_bad_symbols = lambda x: \" \".join(re.sub('[^а-яa-zё0-9]', ' ', x.lower()).split())\n",
    "        new_data['req'] = new_data['req'].apply(delete_bad_symbols)\n",
    "    \n",
    "    new_data = new_data.reset_index()\n",
    "    \n",
    "    return new_data"
   ]
  },
  {
   "cell_type": "code",
   "execution_count": 3,
   "metadata": {},
   "outputs": [
    {
     "name": "stdout",
     "output_type": "stream",
     "text": [
      "Avaliable datasets: ['vkusvill']\n"
     ]
    },
    {
     "name": "stderr",
     "output_type": "stream",
     "text": [
      "/home/mks/intent/lib/python3.6/site-packages/IPython/core/interactiveshell.py:2850: DtypeWarning: Columns (6,7,10,14) have mixed types. Specify dtype option on import or set low_memory=False.\n",
      "  if self.run_code(code, result):\n"
     ]
    },
    {
     "name": "stdout",
     "output_type": "stream",
     "text": [
      "Index(['index', 'req', 'cat'], dtype='object')\n"
     ]
    }
   ],
   "source": [
    "# загрузка csv файла из датасета\n",
    "dataset_dir = './data/'\n",
    "dataset_names = os.listdir(dataset_dir)\n",
    "print('Avaliable datasets: {}'.format(dataset_names))\n",
    "\n",
    "path = join(dataset_dir, dataset_names[0], 'vkusvill_all_categories.csv')\n",
    "data = read_dataset(path, False)\n",
    "print(data.keys())"
   ]
  },
  {
   "cell_type": "code",
   "execution_count": 4,
   "metadata": {},
   "outputs": [],
   "source": [
    "## Разделение данных"
   ]
  },
  {
   "cell_type": "code",
   "execution_count": null,
   "metadata": {},
   "outputs": [],
   "source": [
    "def train_test_split(data, part, req='req', cat='cat', names='train test', adres='./'):\n",
    "    \n",
    "    clas_names = data[cat].unique()\n",
    "    num_cl = len(clas_names)\n",
    "    data_mass = len(data[req])\n",
    "    \n",
    "    alpha = dict()\n",
    "    for x in clas_names:\n",
    "        alpha[x] = data[]\n",
    "    "
   ]
  }
 ],
 "metadata": {
  "kernelspec": {
   "display_name": "Python 3",
   "language": "python",
   "name": "python3"
  },
  "language_info": {
   "codemirror_mode": {
    "name": "ipython",
    "version": 3
   },
   "file_extension": ".py",
   "mimetype": "text/x-python",
   "name": "python",
   "nbconvert_exporter": "python",
   "pygments_lexer": "ipython3",
   "version": "3.6.3"
  }
 },
 "nbformat": 4,
 "nbformat_minor": 2
}
