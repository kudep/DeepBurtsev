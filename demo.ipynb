{
 "cells": [
  {
   "cell_type": "code",
   "execution_count": null,
   "metadata": {},
   "outputs": [],
   "source": [
    "import warnings\n",
    "warnings.filterwarnings(\"ignore\")\n",
    "\n",
    "import json\n",
    "from os.path import join\n",
    "\n",
    "from deepburtsev.core.pipelinemanager import PipelineManager\n",
    "from deepburtsev.core.transformers import FasttextVectorizer, ResultsCollector\n",
    "from deepburtsev.models.intent_classification.DCNN import DCNN\n",
    "from deepburtsev.models.skmodels.linear_models import LinearRegression, LinearSVM, RandomForest\n",
    "from deepburtsev.core.sktransformers import Tfidf\n",
    "from deepburtsev.core.sktransformers import Count"
   ]
  },
  {
   "cell_type": "markdown",
   "metadata": {},
   "source": [
    "### Объявляем путь к датасету и корневой репозиторий"
   ]
  },
  {
   "cell_type": "code",
   "execution_count": null,
   "metadata": {},
   "outputs": [],
   "source": [
    "root = '/home/mks/projects/DeepBurtsev/'\n",
    "file_path = join(root, 'data', 'english', 'new_group', 'dataset.json')\n",
    "with open(file_path, 'r') as f:\n",
    "    dataset = json.load(f)\n",
    "    f.close()"
   ]
  },
  {
   "cell_type": "markdown",
   "metadata": {},
   "source": [
    "### Скачивае ембеддинг по ссылке"
   ]
  },
  {
   "cell_type": "code",
   "execution_count": null,
   "metadata": {},
   "outputs": [],
   "source": [
    "from deepburtsev.core.utils import download_untar\n",
    "url = 'http://lnsigo.mipt.ru/export/embeddings/ft_native_300_ru_wiki_lenta_nltk_word_tokenize/ft_native_300_ru_wiki_lenta_nltk_word_tokenize.bin'\n",
    "download_path = join(root, 'downloads', 'embeddings')\n",
    "download_untar(url, download_path)"
   ]
  },
  {
   "cell_type": "markdown",
   "metadata": {},
   "source": [
    "### Задём недефолтные значения операциям, если хотим."
   ]
  },
  {
   "cell_type": "code",
   "execution_count": null,
   "metadata": {},
   "outputs": [],
   "source": [
    "fasttext = FasttextVectorizer(request_names=['train', 'valid', 'test'],\n",
    "                              new_names=['train', 'valid', 'test'],\n",
    "                              dimension=300,\n",
    "                              model_path='./downloads/embeddings/ft_native_300_ru_wiki_lenta_nltk_word_tokenize.bin')\n",
    "\n",
    "tfidf = Tfidf(request_names=['train', 'valid', 'test'], new_names=['train', 'valid', 'test'])\n",
    "count = Count(request_names=['train', 'valid', 'test'], new_names=['train', 'valid', 'test'])"
   ]
  },
  {
   "cell_type": "markdown",
   "metadata": {},
   "source": [
    "### Задаём структуру эксперимента при помощи списка операций"
   ]
  },
  {
   "cell_type": "code",
   "execution_count": null,
   "metadata": {},
   "outputs": [],
   "source": [
    "# create structure for pipeline manager\n",
    "neural_struct = [fasttext, (DCNN, {'search': True, 'batch_size': 32, 'epochs': [3, 5, 8, 10, 12, 14, 16, 18, 20]}),\n",
    "                 ResultsCollector]\n",
    "\n",
    "linear_struct = [[tfidf, count],\n",
    "                 [LinearRegression, LinearSVM, RandomForest],\n",
    "                 ResultsCollector]"
   ]
  },
  {
   "cell_type": "code",
   "execution_count": null,
   "metadata": {},
   "outputs": [],
   "source": [
    "# Запуск перебора всех пайплайнов, параметр hyper_search отвечает за включение и выключение подбора гиперпараметров\n",
    "# У нейронной модели, по дефолту стоит 20 эпох. Если включить подбор гиперпараметров,\n",
    "# то считаться всё будет очень долго\n",
    "\n",
    "neural_man = PipelineManager(dataset, neural_struct, 'skill_manager', target_metric='f1_macro')\n",
    "neural_man.run()\n",
    "\n",
    "linear_man = PipelineManager(dataset, linear_struct, 'skill_manager', target_metric='f1_macro')\n",
    "linear_man.run()"
   ]
  },
  {
   "cell_type": "markdown",
   "metadata": {},
   "source": [
    "### Вывод результатов"
   ]
  },
  {
   "cell_type": "code",
   "execution_count": null,
   "metadata": {},
   "outputs": [],
   "source": []
  }
 ],
 "metadata": {
  "kernelspec": {
   "display_name": "Python 3",
   "language": "python",
   "name": "python3"
  },
  "language_info": {
   "codemirror_mode": {
    "name": "ipython",
    "version": 3
   },
   "file_extension": ".py",
   "mimetype": "text/x-python",
   "name": "python",
   "nbconvert_exporter": "python",
   "pygments_lexer": "ipython3",
   "version": "3.6.3"
  }
 },
 "nbformat": 4,
 "nbformat_minor": 2
}
