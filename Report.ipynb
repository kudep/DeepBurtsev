{
 "cells": [
  {
   "cell_type": "markdown",
   "metadata": {},
   "source": [
    "# Промежуточный отчёт о проделанной работе"
   ]
  },
  {
   "cell_type": "code",
   "execution_count": 1,
   "metadata": {},
   "outputs": [
    {
     "name": "stderr",
     "output_type": "stream",
     "text": [
      "/usr/lib/python3.6/importlib/_bootstrap.py:219: RuntimeWarning: compiletime version 3.5 of module 'tensorflow.python.framework.fast_tensor_util' does not match runtime version 3.6\n",
      "  return f(*args, **kwds)\n",
      "/home/mks/envs/intent_script/lib/python3.6/site-packages/h5py/__init__.py:36: FutureWarning: Conversion of the second argument of issubdtype from `float` to `np.floating` is deprecated. In future, it will be treated as `np.float64 == np.dtype(float).type`.\n",
      "  from ._conv import register_converters as _register_converters\n",
      "Using TensorFlow backend.\n",
      "2018-03-25 11:03:55.323 DEBUG in 'matplotlib.backends'['__init__'] at line 90: backend module://ipykernel.pylab.backend_inline version unknown\n"
     ]
    }
   ],
   "source": [
    "import datetime\n",
    "\n",
    "from script.core.transformers import *\n",
    "from script.core.models import *\n",
    "from script.core.dataset import Watcher\n",
    "from script.core.utils import read_dataset, get_result, logging\n",
    "from script.core.pipeline import Pipeline\n",
    "\n",
    "# linear models\n",
    "from lightgbm import LGBMClassifier\n",
    "from sklearn.linear_model import LogisticRegression\n",
    "from sklearn.svm import LinearSVC\n",
    "from sklearn.ensemble import RandomForestClassifier\n",
    "\n",
    "# sklearn feachure extractors\n",
    "from sklearn.feature_extraction.text import CountVectorizer as count\n",
    "from sklearn.feature_extraction.text import TfidfVectorizer as tfidf\n",
    "\n",
    "# CNN\n",
    "from script.models.cnn import CNN"
   ]
  },
  {
   "cell_type": "markdown",
   "metadata": {},
   "source": [
    "### На данный момент общий вид нашего функционала выглядит следующим образом. У нас есть набор отдельных сущностей на которых всё строится: датасет, трансформер, векторайзейр, модель, и пайплайн. Из комбинации различных трансформеров, моделей и векторайзеров строится пайплайн. Внутри пайплайна, между операциями ходит специальный класс датасет, который содержит в себе все данные, необходимые для операций. "
   ]
  },
  {
   "cell_type": "markdown",
   "metadata": {},
   "source": [
    "### Для каждой сущности написаны базовые классы со стандартизированными интерфесами (как в sklearn). Наследуюясь от которых, можно легко написать что-нибудь новое. Всё что нужно написать (в данном примере для трансформера), это метод _transform в котором содержится логика преобразования данных, и инициализацию. Например так вот выглядит создание рабочего опечаточника: "
   ]
  },
  {
   "cell_type": "code",
   "execution_count": 2,
   "metadata": {},
   "outputs": [],
   "source": [
    "class Speller(BaseTransformer):\n",
    "    def __init__(self, config=None):\n",
    "        if config is None:\n",
    "            self.config = {'op_type': 'transformer',\n",
    "                           'name': 'Speller',\n",
    "                           'request_names': ['base'],\n",
    "                           'new_names': ['base'],\n",
    "                           'path': './DeepPavlov/deeppavlov/configs/error_model/brillmoore_kartaslov_ru.json'}\n",
    "        else:\n",
    "            need_names = ['path']\n",
    "            for name in need_names:\n",
    "                if name not in config.keys():\n",
    "                    raise ValueError('Input config must contain {}.'.format(name))\n",
    "\n",
    "            self.config = config\n",
    "\n",
    "        super().__init__(self.config)\n",
    "\n",
    "        self.conf_path = self.config['path']\n",
    "        with open(self.conf_path) as config_file:\n",
    "            self.config_ = json.load(config_file)\n",
    "        \n",
    "        for name in self.config_.keys():\n",
    "            self.config[name] = self.config_[name]\n",
    "\n",
    "        self.speller = build_model_from_config(self.config_)\n",
    "        \n",
    "\n",
    "    def _transform(self, dataset):\n",
    "        print('[ Speller start working ... ]')\n",
    "\n",
    "        request, report = dataset.main_names\n",
    "        for name, new_name in zip(self.request_names, self.new_names):\n",
    "            data = dataset.data[name]\n",
    "            refactor = list()\n",
    "\n",
    "            for x in tqdm(data[request]):\n",
    "                refactor.append(self.speller([x])[0])\n",
    "\n",
    "            dataset.data[new_name] = pd.DataFrame({request: refactor,\n",
    "                                                   report: data[report]})\n",
    "\n",
    "        print('[ Speller done. ]')\n",
    "        return dataset"
   ]
  },
  {
   "cell_type": "markdown",
   "metadata": {},
   "source": [
    "### Все операций (трансформеры, векторайзеры, модели) имеют свой конфиг, дефолтная версия которых забита в операции по умолчанию, или может приниматься в качестве входного параметра. Так же как в библиотеке sklearn реализованы методы  .get_params(), возвращающий конфиг словарь,  и .set_params() позволяющий задать новый набор параметров, в том числе и уже проинициализированной операции."
   ]
  },
  {
   "cell_type": "code",
   "execution_count": 3,
   "metadata": {},
   "outputs": [
    {
     "name": "stderr",
     "output_type": "stream",
     "text": [
      "2018-03-25 11:04:02.428 INFO in 'deeppavlov.vocabs.typos'['typos'] at line 76: Loading a dictionary from /home/mks/projects/intent_classification_script/DeepPavlov/download/russian_words_vocab\n",
      "2018-03-25 11:04:07.769 INFO in 'deeppavlov.models.spellers.error_model.error_model'['error_model'] at line 239: loading error_model from `/home/mks/projects/intent_classification_script/DeepPavlov/download/error_model/error_model_ru.tsv`\n"
     ]
    },
    {
     "name": "stdout",
     "output_type": "stream",
     "text": [
      "{'op_type': 'transformer', 'name': 'Speller', 'request_names': ['base'], 'new_names': ['base'], 'path': './DeepPavlov/deeppavlov/configs/error_model/brillmoore_kartaslov_ru.json', 'dataset_reader': {'name': 'typos_kartaslov_reader'}, 'dataset': {'name': 'typos_dataset', 'test_ratio': 0.02}, 'chainer': {'in': ['x'], 'in_y': ['y'], 'pipe': [{'name': 'str_lower', 'id': 'lower', 'in': ['x'], 'out': ['x_lower']}, {'name': 'nltk_tokenizer', 'id': 'tokenizer', 'in': ['x_lower'], 'out': ['x_tokens']}, {'ref': 'tokenizer', 'in': ['y'], 'out': ['y_tokens']}, {'fit_on': ['x_tokens', 'y_tokens'], 'in': ['x_tokens'], 'out': ['y_predicted'], 'name': 'spelling_error_model', 'window': 1, 'dictionary': {'name': 'russian_words_vocab'}, 'save_path': 'error_model/error_model_ru.tsv', 'load_path': 'error_model/error_model_ru.tsv'}], 'out': ['y_predicted']}, 'train': {'validate_best': False, 'test_best': True}}\n"
     ]
    }
   ],
   "source": [
    "spell_conf = Speller().get_params()\n",
    "print(spell_conf)"
   ]
  },
  {
   "cell_type": "code",
   "execution_count": 4,
   "metadata": {},
   "outputs": [
    {
     "name": "stderr",
     "output_type": "stream",
     "text": [
      "2018-03-25 11:04:08.382 INFO in 'deeppavlov.vocabs.typos'['typos'] at line 76: Loading a dictionary from /home/mks/projects/intent_classification_script/DeepPavlov/download/russian_words_vocab\n",
      "2018-03-25 11:04:13.676 INFO in 'deeppavlov.models.spellers.error_model.error_model'['error_model'] at line 239: loading error_model from `/home/mks/projects/intent_classification_script/DeepPavlov/download/error_model/error_model_ru.tsv`\n",
      "2018-03-25 11:04:14.254 INFO in 'deeppavlov.vocabs.typos'['typos'] at line 76: Loading a dictionary from /home/mks/projects/intent_classification_script/DeepPavlov/download/russian_words_vocab\n",
      "2018-03-25 11:04:18.841 INFO in 'deeppavlov.models.spellers.error_model.error_model'['error_model'] at line 239: loading error_model from `/home/mks/projects/intent_classification_script/DeepPavlov/download/error_model/error_model_ru.tsv`\n"
     ]
    }
   ],
   "source": [
    "spell_conf['name'] = 'New speller'\n",
    "spell = Speller().set_params(spell_conf)"
   ]
  },
  {
   "cell_type": "markdown",
   "metadata": {},
   "source": [
    "# Read csv file and create Dataset"
   ]
  },
  {
   "cell_type": "markdown",
   "metadata": {},
   "source": [
    "### Ниже приведена простенькая функция для создания объекта класса Dataset (для удобства в демонстрации). Базовый класс Dataset инициализируется от объекта класса DataFrame (или словаря с ключами [train, valid, test]/[train, test]) , и обладает широким функционалом. Может разбивать данные с нужными пропорциями (как с сохранением исходного распределения данных по классам, так и без), объединять несколько разделов один, генерировать батчи нужной размерности, или почередно возвращать все элементы списка, удалять указанные разделы. При гулянии по пайплану в датасет может как добавляться новые данные, так и удаляться старые. "
   ]
  },
  {
   "cell_type": "markdown",
   "metadata": {},
   "source": [
    "### Существует две версии датасета: базовая (Dataset) и Watcher (объявленный ниже). Watcher обладает расширенным функционалом позволяющим осуществлять логирование данных при прохождении через пайплайн, на каждом шага, он обновляет общий конфиг всего пайплайна, и проверяет встречал ли он такой конфиг ранее, если нет, то данные сохраняются в виде csv файла, в специальном месте с уникальным именем. "
   ]
  },
  {
   "cell_type": "code",
   "execution_count": 5,
   "metadata": {},
   "outputs": [],
   "source": [
    "def init_dataset():\n",
    "    path = './data/russian/data/vkusvill_all_categories.csv'\n",
    "    global_data = read_dataset(path)\n",
    "    date = datetime.datetime.now()\n",
    "    dataset = Watcher(global_data, date, seed=42)\n",
    "    dataset = dataset.split([0.1, 0.1])\n",
    "\n",
    "    print(dataset.data.keys())\n",
    "    print(len(dataset.data['valid']))\n",
    "\n",
    "    data = dataset.data['test']\n",
    "    dataset = Watcher(data, date, seed=42)\n",
    "    print(dataset.data.keys())\n",
    "    \n",
    "    return dataset"
   ]
  },
  {
   "cell_type": "markdown",
   "metadata": {},
   "source": [
    "# Operations"
   ]
  },
  {
   "cell_type": "markdown",
   "metadata": {},
   "source": [
    "### Для естиматоров и трансформеров из библиотеки sklearn, написаны обёртки sktransformer и skmodel соответственно, весь функционал sklearn поддерживается.  Ниже пример инициализации с заранее написанным конфигом, в него так же можно записывать все дополнительные параметры которые относятся непосредственно к объекту sklearn-a."
   ]
  },
  {
   "cell_type": "code",
   "execution_count": 6,
   "metadata": {},
   "outputs": [],
   "source": [
    "tfidf_conf_1 = {'op_type': 'vectorizer', 'name': 'tf-idf vectorizer',\n",
    "                'request_names': ['train', 'valid', 'test'], 'new_names': ['train_vec', 'valid_vec', 'test_vec']}\n",
    "tfidf_ = sktransformer(tfidf, tfidf_conf_1)"
   ]
  },
  {
   "cell_type": "code",
   "execution_count": 14,
   "metadata": {},
   "outputs": [],
   "source": [
    "# spl_conf = {'op_type': 'transformer',\n",
    "#             'name': 'Speller',\n",
    "#             'request_names': ['base'],\n",
    "#             'new_names': ['base'],\n",
    "#             'path': './DeepPavlov/deeppavlov/configs/error_model/brillmoore_kartaslov_ru.json'}\n",
    "\n",
    "# tok_conf = {'op_type': 'transformer',\n",
    "#             'name': 'Tokenizer',\n",
    "#             'request_names': ['base'],\n",
    "#             'new_names': ['base']}\n",
    "\n",
    "# lem_conf = {'op_type': 'transformer',\n",
    "#             'name': 'Lemmatizer',\n",
    "#             'request_names': ['base'],\n",
    "#             'new_names': ['base']}\n",
    "\n",
    "concat = TextConcat()\n",
    "\n",
    "\n",
    "tfidf_conf_2 = {'op_type': 'vectorizer', 'name': 'tf-idf_vectorizer',\n",
    "                'request_names': ['train', 'valid', 'test'], 'new_names': ['train_vec', 'valid_vec', 'test_vec']}"
   ]
  },
  {
   "cell_type": "markdown",
   "metadata": {},
   "source": [
    "# Neural Models"
   ]
  },
  {
   "cell_type": "markdown",
   "metadata": {},
   "source": [
    "### Я постарался написать базовый класс для нейронных моделей наиболее рационально, дабы было меньше проблем с обёртыванием. В основном изменения в исходном модели будут связаны с тем как модель будет получать данные из датасета (батчеварение, и вот это вот всё), учитывая что датасет поддерживает генерацию батчей, и прочие плюшки, переписать это будет скорее всего не слишком сложно. (Я плохой конечно пример, так как изначально знал что мне надо искать в датасете и т.д, но модель Диляры мне удалось нормально обернуть с нуля (то что лежит в deepmipt/intent_recognition) минут за 20-25 (10 написание кода, и 15 минут отладка))"
   ]
  },
  {
   "cell_type": "markdown",
   "metadata": {},
   "source": [
    "### Если модели для инициализации требуются какие-то дополнительные данные, то просто поверх базовой модели пишеться свой инит, где мы в конфиг модели записываем то что хотим, а берем всё из датасета. Например для построения дилиной модели требуется знать какое количество классов в нашем датасете, можно сконфигурировать пайплайн таким образом, чтобы вся необходимая нам информация была в датасете к во времени его прихода в модель. (это может быть очень удобно в некоторых случаях, особенно учитывая что операции в пайплайне инициилизируются только когда до них доходит очередь)"
   ]
  },
  {
   "cell_type": "code",
   "execution_count": 8,
   "metadata": {},
   "outputs": [],
   "source": [
    "class GetCNN(BaseModel):\n",
    "    def init_model(self, dataset):\n",
    "        classes = dataset.get_classes()\n",
    "        classes = ' '.join([str(x) for x in classes])\n",
    "        self.config['classes'] = classes\n",
    "        \n",
    "        super().init_model(dataset)\n",
    "        \n",
    "        return self\n",
    "\n",
    "# просто функция для удобства и компактности, до тех пор пока нет генератора конфигов \n",
    "def get_cnn_conf(path, emb_path, fit_names=None, predict_names=None, new_names=None):\n",
    "    with open(path, 'r') as conf:\n",
    "        config = json.load(conf)\n",
    "\n",
    "    config['op_type'] = 'model'\n",
    "    config['name'] = 'cnn'\n",
    "    \n",
    "    if fit_names is not None:\n",
    "        config['fit_names'] = fit_names\n",
    "    else:\n",
    "        config['fit_names'] = ['train_vec']\n",
    "    \n",
    "    if predict_names is not None:\n",
    "        config['predict_names'] = predict_names\n",
    "    else:\n",
    "        config['predict_names'] = ['test_vec']\n",
    "        \n",
    "    if new_names is not None:\n",
    "        config['new_names'] = new_names\n",
    "    else:\n",
    "        config['new_names'] = ['predicted_test']\n",
    "    \n",
    "    config['fasttext_model'] = emb_path\n",
    "    \n",
    "    return config\n",
    "\n",
    "path_0 = './configs/models/CNN/CNN_opt.json'\n",
    "path_1 = './configs/models/CNN/cnn.json'\n",
    "emb_path = './data/russian/embeddings/ft_0.8.3_nltk_yalen_sg_300.bin'\n",
    "\n",
    "# Neural Model\n",
    "config = get_cnn_conf(path_1, emb_path)\n",
    "WCNN = GetCNN(CNN, config)"
   ]
  },
  {
   "cell_type": "markdown",
   "metadata": {},
   "source": [
    "### Модель имеет методы: fit() - return None; predict() - return Dataset object with predictions and others info; fit_predict() - return Dataset object; predict_data() - return a list of model predictions; fit_predict_data(); save(); restore(); get_params(); set_params(); e.t.c. Наличие такого набора методов позволяет оперировать моделями, трансформерами и векторайзерами(забыл кстати сказать с програмной точки зрения они такие же как трансформеры, так что разделение условное) не только в рамках пайплайна, но и виде простого кода на питоне."
   ]
  },
  {
   "cell_type": "markdown",
   "metadata": {},
   "source": [
    "# Pipeline"
   ]
  },
  {
   "cell_type": "markdown",
   "metadata": {},
   "source": [
    "## Базовый класс Pipeline принимает на вход список операций как в sklearn, этот список операций задаётся в виде [(op1, op1_config), ....] объекты внутри tuple могут быть как инициализированы, так и нет, а на месте op_config может быть как None, так и вообще ничего не быть (тогда операции инициилизируются с дефолтными конфигами). Также у пайплайна есть два режима работы (mode): train/infer; а также параметр output, который определяет какой объект мы получим на выходе пайплайна. В режиме train, пайплайн может выдать только None, а в режиме infer, может выдать как dataset объект, так и список предсказаний последней модели."
   ]
  },
  {
   "cell_type": "markdown",
   "metadata": {},
   "source": [
    "## У пайплайна есть методы: .run() - запускает прогон пайплайна в режиме, который был определён при инициализации; .fit() - только тренирует; .predict(); .get_last_model() - Возвращает последнюю модель в пайплайне (если метод вызвать после обучения, то соответственно выдатст обученную модель); .get_models() - возвращает список всех моделей. И т.д. Вот пример:"
   ]
  },
  {
   "cell_type": "code",
   "execution_count": null,
   "metadata": {},
   "outputs": [],
   "source": [
    "neuro_pipe = [(spell,), (Tokenizer,), (FasttextVectorizer,), (WCNN,), (GetResult,)]\n",
    "pipeline_1 = Pipeline(neuro_pipe, mode='infer', output='dataset')"
   ]
  },
  {
   "cell_type": "markdown",
   "metadata": {},
   "source": [
    "## В примере выше последняя операция GetResult осуществляет проверку предсказаний на тестовой части датасета по всем имеющимся метрикам, и записывает результаты в отдельный лог файл, в котором хранятся все логи прогонов за сутки. (Позже там будут храниться все логи за один запуск скрипта, а имя будет с уникальным хешем как с данными, чуточку не успел дописать)."
   ]
  },
  {
   "cell_type": "code",
   "execution_count": null,
   "metadata": {},
   "outputs": [],
   "source": []
  },
  {
   "cell_type": "markdown",
   "metadata": {},
   "source": [
    "## Таким образом при прогоне нескольких пайплайнов, у нас создаётся список логов, а когда настаёт пора их проверять, отдельные функции просматривают эти логи, и на их основе строят графики, таблицы, и т.д."
   ]
  },
  {
   "cell_type": "markdown",
   "metadata": {},
   "source": [
    "# Далее будет пример прогона пяти разных пайплайнов, на 5 разных моделях, с дальнейшим выводом результатов. "
   ]
  },
  {
   "cell_type": "markdown",
   "metadata": {},
   "source": [
    "## В целях экономии времени, ни в одном из пайплайнов нету опечаточника, однако он исправно работает, я честно проверял."
   ]
  },
  {
   "cell_type": "markdown",
   "metadata": {},
   "source": [
    "# Pipelines with Neural Models"
   ]
  },
  {
   "cell_type": "code",
   "execution_count": 9,
   "metadata": {},
   "outputs": [
    {
     "name": "stderr",
     "output_type": "stream",
     "text": [
      "/home/mks/envs/intent_script/lib/python3.6/site-packages/IPython/core/interactiveshell.py:2910: DtypeWarning: Columns (6,7,10,14) have mixed types. Specify dtype option on import or set low_memory=False.\n",
      "  exec(code_obj, self.user_global_ns, self.user_ns)\n",
      " 11%|█         | 491/4475 [00:00<00:00, 4907.49it/s]"
     ]
    },
    {
     "name": "stdout",
     "output_type": "stream",
     "text": [
      "dict_keys(['train', 'valid', 'test'])\n",
      "4475\n",
      "dict_keys(['base'])\n",
      "[ Starting tokenization ... ]\n"
     ]
    },
    {
     "name": "stderr",
     "output_type": "stream",
     "text": [
      "100%|██████████| 4475/4475 [00:00<00:00, 5212.50it/s]\n",
      "  0%|          | 0/3597 [00:00<?, ?it/s]"
     ]
    },
    {
     "name": "stdout",
     "output_type": "stream",
     "text": [
      "[ Tokenization was done. ]\n",
      "[ Starting vectorization ... ]\n",
      "[ Vectorization of train part of dataset ... ]\n"
     ]
    },
    {
     "name": "stderr",
     "output_type": "stream",
     "text": [
      "100%|██████████| 3597/3597 [00:01<00:00, 1817.99it/s]\n",
      " 43%|████▎     | 189/439 [00:00<00:00, 1853.42it/s]"
     ]
    },
    {
     "name": "stdout",
     "output_type": "stream",
     "text": [
      "[ Vectorization of valid part of dataset ... ]\n"
     ]
    },
    {
     "name": "stderr",
     "output_type": "stream",
     "text": [
      "100%|██████████| 439/439 [00:00<00:00, 1879.10it/s]\n",
      " 38%|███▊      | 167/439 [00:00<00:00, 1669.27it/s]"
     ]
    },
    {
     "name": "stdout",
     "output_type": "stream",
     "text": [
      "[ Vectorization of test part of dataset ... ]\n"
     ]
    },
    {
     "name": "stderr",
     "output_type": "stream",
     "text": [
      "100%|██████████| 439/439 [00:00<00:00, 1733.33it/s]\n"
     ]
    },
    {
     "name": "stdout",
     "output_type": "stream",
     "text": [
      "[ Vectorization was ended. ]\n",
      "[ Initializing intent_model from scratch ]\n",
      "\n",
      "____Training over 3597 samples____\n",
      "\n",
      "\n",
      "train -->\tupdates: 1\tloss: 0.33391445875167847\tfmeasure: 0.0\t \n",
      "epochs_done: 1\n",
      "train -->\tupdates: 58\tloss: 0.2779141962528229\tfmeasure: 0.39534878730773926\t \n",
      "epochs_done: 2\n"
     ]
    },
    {
     "name": "stderr",
     "output_type": "stream",
     "text": [
      "/home/mks/envs/intent_script/lib/python3.6/site-packages/sklearn/metrics/classification.py:1135: UndefinedMetricWarning: F-score is ill-defined and being set to 0.0 in labels with no predicted samples.\n",
      "  'precision', 'predicted', average, warn_for)\n",
      "/home/mks/envs/intent_script/lib/python3.6/site-packages/sklearn/metrics/classification.py:1135: UndefinedMetricWarning: Precision is ill-defined and being set to 0.0 due to no predicted samples.\n",
      "  'precision', 'predicted', average, warn_for)\n"
     ]
    }
   ],
   "source": [
    "config = get_cnn_conf(path_1, emb_path)\n",
    "dataset = init_dataset()\n",
    "WCNN = GetCNN(CNN, config)\n",
    "neuro_pipe = [(Tokenizer, ), (FasttextVectorizer,), (WCNN,), (GetResult,)]\n",
    "pipeline_1 = Pipeline(neuro_pipe, mode='infer', output='dataset')\n",
    "neurodata = pipeline_1.run(dataset)"
   ]
  },
  {
   "cell_type": "markdown",
   "metadata": {},
   "source": [
    "# Pipelines with Linear Models"
   ]
  },
  {
   "cell_type": "code",
   "execution_count": 10,
   "metadata": {},
   "outputs": [],
   "source": [
    "conf_0 = {'op_type': 'model', 'name': 'Linear Regression',\n",
    "          'fit_names': ['train_vec'], 'new_names': ['predicted_test'],\n",
    "          'predict_names': ['test_vec']}"
   ]
  },
  {
   "cell_type": "markdown",
   "metadata": {},
   "source": [
    "## Run pipeline with linear regression"
   ]
  },
  {
   "cell_type": "code",
   "execution_count": 12,
   "metadata": {},
   "outputs": [
    {
     "name": "stderr",
     "output_type": "stream",
     "text": [
      "/home/mks/envs/intent_script/lib/python3.6/site-packages/IPython/core/interactiveshell.py:2910: DtypeWarning: Columns (6,7,10,14) have mixed types. Specify dtype option on import or set low_memory=False.\n",
      "  exec(code_obj, self.user_global_ns, self.user_ns)\n"
     ]
    },
    {
     "name": "stdout",
     "output_type": "stream",
     "text": [
      "dict_keys(['train', 'valid', 'test'])\n",
      "4475\n",
      "dict_keys(['base'])\n"
     ]
    },
    {
     "name": "stderr",
     "output_type": "stream",
     "text": [
      "/home/mks/envs/intent_script/lib/python3.6/site-packages/sklearn/feature_extraction/text.py:1089: FutureWarning: Conversion of the second argument of issubdtype from `float` to `np.floating` is deprecated. In future, it will be treated as `np.float64 == np.dtype(float).type`.\n",
      "  if hasattr(X, 'dtype') and np.issubdtype(X.dtype, np.float):\n",
      "/home/mks/envs/intent_script/lib/python3.6/site-packages/sklearn/metrics/classification.py:1135: UndefinedMetricWarning: F-score is ill-defined and being set to 0.0 in labels with no predicted samples.\n",
      "  'precision', 'predicted', average, warn_for)\n",
      "/home/mks/envs/intent_script/lib/python3.6/site-packages/sklearn/metrics/classification.py:1135: UndefinedMetricWarning: Precision is ill-defined and being set to 0.0 due to no predicted samples.\n",
      "  'precision', 'predicted', average, warn_for)\n"
     ]
    }
   ],
   "source": [
    "# (Tokenizer, tok_conf), (Lemmatizer,), (concat, None),\n",
    "dataset = init_dataset()\n",
    "LR = skmodel(LogisticRegression, conf_0)\n",
    "\n",
    "pipe_0 = [(tfidf_,), (LR,), (GetResultLinear_W,)]\n",
    "pipeline_0 = Pipeline(pipe_0, mode='train', output=None)\n",
    "pipeline_1 = Pipeline(pipe_0, mode='infer', output='dataset')\n",
    "res = pipeline_1.run(dataset)"
   ]
  },
  {
   "cell_type": "markdown",
   "metadata": {},
   "source": [
    "## Run pipeline with SVC"
   ]
  },
  {
   "cell_type": "code",
   "execution_count": 15,
   "metadata": {},
   "outputs": [
    {
     "name": "stderr",
     "output_type": "stream",
     "text": [
      "/home/mks/envs/intent_script/lib/python3.6/site-packages/IPython/core/interactiveshell.py:2910: DtypeWarning: Columns (6,7,10,14) have mixed types. Specify dtype option on import or set low_memory=False.\n",
      "  exec(code_obj, self.user_global_ns, self.user_ns)\n",
      " 12%|█▏        | 555/4475 [00:00<00:00, 5545.87it/s]"
     ]
    },
    {
     "name": "stdout",
     "output_type": "stream",
     "text": [
      "dict_keys(['train', 'valid', 'test'])\n",
      "4475\n",
      "dict_keys(['base'])\n",
      "[ Starting tokenization ... ]\n"
     ]
    },
    {
     "name": "stderr",
     "output_type": "stream",
     "text": [
      "100%|██████████| 4475/4475 [00:00<00:00, 5247.98it/s]\n",
      "2018-03-25 11:15:57.496 INFO in 'pymorphy2.opencorpora_dict.wrapper'['wrapper'] at line 16: Loading dictionaries from /home/mks/envs/intent_script/lib/python3.6/site-packages/pymorphy2_dicts/data\n",
      "2018-03-25 11:15:57.532 INFO in 'pymorphy2.opencorpora_dict.wrapper'['wrapper'] at line 20: format: 2.4, revision: 393442, updated: 2015-01-17T16:03:56.586168\n",
      "  0%|          | 19/4475 [00:00<00:23, 188.28it/s]"
     ]
    },
    {
     "name": "stdout",
     "output_type": "stream",
     "text": [
      "[ Tokenization was done. ]\n",
      "[ Starting lemmatization ... ]\n"
     ]
    },
    {
     "name": "stderr",
     "output_type": "stream",
     "text": [
      "100%|██████████| 4475/4475 [00:26<00:00, 168.35it/s]\n",
      "100%|██████████| 4475/4475 [00:00<00:00, 467915.90it/s]\n",
      "/home/mks/envs/intent_script/lib/python3.6/site-packages/sklearn/feature_extraction/text.py:1089: FutureWarning: Conversion of the second argument of issubdtype from `float` to `np.floating` is deprecated. In future, it will be treated as `np.float64 == np.dtype(float).type`.\n",
      "  if hasattr(X, 'dtype') and np.issubdtype(X.dtype, np.float):\n"
     ]
    },
    {
     "name": "stdout",
     "output_type": "stream",
     "text": [
      "[ Ended lemmatization. ]\n",
      "[ Starting text merging ... ]\n",
      "[ Text concatenation was ended. ]\n"
     ]
    },
    {
     "name": "stderr",
     "output_type": "stream",
     "text": [
      "/home/mks/envs/intent_script/lib/python3.6/site-packages/sklearn/metrics/classification.py:1135: UndefinedMetricWarning: F-score is ill-defined and being set to 0.0 in labels with no predicted samples.\n",
      "  'precision', 'predicted', average, warn_for)\n",
      "/home/mks/envs/intent_script/lib/python3.6/site-packages/sklearn/metrics/classification.py:1135: UndefinedMetricWarning: Precision is ill-defined and being set to 0.0 due to no predicted samples.\n",
      "  'precision', 'predicted', average, warn_for)\n"
     ]
    }
   ],
   "source": [
    "dataset = init_dataset()\n",
    "\n",
    "conf_0['name'] = 'LinearSVC'\n",
    "conf_0['op_type'] = 'model'\n",
    "LSVC = skmodel(LinearSVC, conf_0)\n",
    "\n",
    "# (Speller, spl_conf),\n",
    "\n",
    "pipe_1 = [(Tokenizer, ), (Lemmatizer,), (concat, None), (tfidf_, tfidf_conf_2),\n",
    "          (LSVC,), (GetResultLinear_W,)]\n",
    "pipeline_2 = Pipeline(pipe_1, mode='train', output=None)\n",
    "pipeline_3 = Pipeline(pipe_1, mode='infer', output='dataset')\n",
    "\n",
    "res = pipeline_3.run(dataset)"
   ]
  },
  {
   "cell_type": "markdown",
   "metadata": {},
   "source": [
    "##  Run pipeline with Random Forest"
   ]
  },
  {
   "cell_type": "code",
   "execution_count": 16,
   "metadata": {},
   "outputs": [
    {
     "name": "stderr",
     "output_type": "stream",
     "text": [
      "/home/mks/envs/intent_script/lib/python3.6/site-packages/IPython/core/interactiveshell.py:2910: DtypeWarning: Columns (6,7,10,14) have mixed types. Specify dtype option on import or set low_memory=False.\n",
      "  exec(code_obj, self.user_global_ns, self.user_ns)\n",
      " 11%|█▏        | 509/4475 [00:00<00:00, 5084.08it/s]"
     ]
    },
    {
     "name": "stdout",
     "output_type": "stream",
     "text": [
      "dict_keys(['train', 'valid', 'test'])\n",
      "4475\n",
      "dict_keys(['base'])\n",
      "[ Starting tokenization ... ]\n"
     ]
    },
    {
     "name": "stderr",
     "output_type": "stream",
     "text": [
      "100%|██████████| 4475/4475 [00:00<00:00, 5354.16it/s]\n",
      "2018-03-25 11:16:34.311 INFO in 'pymorphy2.opencorpora_dict.wrapper'['wrapper'] at line 16: Loading dictionaries from /home/mks/envs/intent_script/lib/python3.6/site-packages/pymorphy2_dicts/data\n",
      "2018-03-25 11:16:34.343 INFO in 'pymorphy2.opencorpora_dict.wrapper'['wrapper'] at line 20: format: 2.4, revision: 393442, updated: 2015-01-17T16:03:56.586168\n",
      "  0%|          | 21/4475 [00:00<00:22, 201.12it/s]"
     ]
    },
    {
     "name": "stdout",
     "output_type": "stream",
     "text": [
      "[ Tokenization was done. ]\n",
      "[ Starting lemmatization ... ]\n"
     ]
    },
    {
     "name": "stderr",
     "output_type": "stream",
     "text": [
      "100%|██████████| 4475/4475 [00:26<00:00, 169.13it/s]\n",
      "100%|██████████| 4475/4475 [00:00<00:00, 465837.15it/s]\n",
      "/home/mks/envs/intent_script/lib/python3.6/site-packages/sklearn/feature_extraction/text.py:1089: FutureWarning: Conversion of the second argument of issubdtype from `float` to `np.floating` is deprecated. In future, it will be treated as `np.float64 == np.dtype(float).type`.\n",
      "  if hasattr(X, 'dtype') and np.issubdtype(X.dtype, np.float):\n"
     ]
    },
    {
     "name": "stdout",
     "output_type": "stream",
     "text": [
      "[ Ended lemmatization. ]\n",
      "[ Starting text merging ... ]\n",
      "[ Text concatenation was ended. ]\n"
     ]
    },
    {
     "name": "stderr",
     "output_type": "stream",
     "text": [
      "/home/mks/envs/intent_script/lib/python3.6/site-packages/sklearn/metrics/classification.py:1135: UndefinedMetricWarning: F-score is ill-defined and being set to 0.0 in labels with no predicted samples.\n",
      "  'precision', 'predicted', average, warn_for)\n",
      "/home/mks/envs/intent_script/lib/python3.6/site-packages/sklearn/metrics/classification.py:1135: UndefinedMetricWarning: Precision is ill-defined and being set to 0.0 due to no predicted samples.\n",
      "  'precision', 'predicted', average, warn_for)\n"
     ]
    }
   ],
   "source": [
    "dataset = init_dataset()\n",
    "\n",
    "conf_0['name'] = 'RandomForestClassifier'\n",
    "conf_0['op_type'] = 'model'\n",
    "RFC = skmodel(RandomForestClassifier, conf_0)\n",
    "\n",
    "\n",
    "# (Speller, spl_conf), \n",
    "pipe_2 = [(Tokenizer, ), (Lemmatizer,), (concat, None), (tfidf_, tfidf_conf_2),\n",
    "          (RFC,), (GetResultLinear_W,)]\n",
    "pipeline_4 = Pipeline(pipe_2, mode='train', output=None)\n",
    "pipeline_5 = Pipeline(pipe_2, mode='infer', output='dataset')\n",
    "\n",
    "res = pipeline_5.run(dataset)"
   ]
  },
  {
   "cell_type": "markdown",
   "metadata": {},
   "source": [
    "## Run pipeline with GBM"
   ]
  },
  {
   "cell_type": "code",
   "execution_count": 17,
   "metadata": {},
   "outputs": [
    {
     "name": "stderr",
     "output_type": "stream",
     "text": [
      "/home/mks/envs/intent_script/lib/python3.6/site-packages/IPython/core/interactiveshell.py:2910: DtypeWarning: Columns (6,7,10,14) have mixed types. Specify dtype option on import or set low_memory=False.\n",
      "  exec(code_obj, self.user_global_ns, self.user_ns)\n",
      " 12%|█▏        | 550/4475 [00:00<00:00, 5494.57it/s]"
     ]
    },
    {
     "name": "stdout",
     "output_type": "stream",
     "text": [
      "dict_keys(['train', 'valid', 'test'])\n",
      "4475\n",
      "dict_keys(['base'])\n",
      "[ Starting tokenization ... ]\n"
     ]
    },
    {
     "name": "stderr",
     "output_type": "stream",
     "text": [
      "100%|██████████| 4475/4475 [00:00<00:00, 5527.70it/s]\n",
      "2018-03-25 11:17:05.216 INFO in 'pymorphy2.opencorpora_dict.wrapper'['wrapper'] at line 16: Loading dictionaries from /home/mks/envs/intent_script/lib/python3.6/site-packages/pymorphy2_dicts/data\n",
      "2018-03-25 11:17:05.241 INFO in 'pymorphy2.opencorpora_dict.wrapper'['wrapper'] at line 20: format: 2.4, revision: 393442, updated: 2015-01-17T16:03:56.586168\n",
      "  0%|          | 21/4475 [00:00<00:21, 204.14it/s]"
     ]
    },
    {
     "name": "stdout",
     "output_type": "stream",
     "text": [
      "[ Tokenization was done. ]\n",
      "[ Starting lemmatization ... ]\n"
     ]
    },
    {
     "name": "stderr",
     "output_type": "stream",
     "text": [
      "100%|██████████| 4475/4475 [00:26<00:00, 170.93it/s]\n",
      "100%|██████████| 4475/4475 [00:00<00:00, 436815.16it/s]\n"
     ]
    },
    {
     "name": "stdout",
     "output_type": "stream",
     "text": [
      "[ Ended lemmatization. ]\n",
      "[ Starting text merging ... ]\n",
      "[ Text concatenation was ended. ]\n"
     ]
    },
    {
     "name": "stderr",
     "output_type": "stream",
     "text": [
      "/home/mks/envs/intent_script/lib/python3.6/site-packages/sklearn/feature_extraction/text.py:1089: FutureWarning: Conversion of the second argument of issubdtype from `float` to `np.floating` is deprecated. In future, it will be treated as `np.float64 == np.dtype(float).type`.\n",
      "  if hasattr(X, 'dtype') and np.issubdtype(X.dtype, np.float):\n",
      "/home/mks/envs/intent_script/lib/python3.6/site-packages/sklearn/preprocessing/label.py:151: DeprecationWarning: The truth value of an empty array is ambiguous. Returning False, but in future this will result in an error. Use `array.size > 0` to check that an array is not empty.\n",
      "  if diff:\n",
      "/home/mks/envs/intent_script/lib/python3.6/site-packages/sklearn/metrics/classification.py:1135: UndefinedMetricWarning: F-score is ill-defined and being set to 0.0 in labels with no predicted samples.\n",
      "  'precision', 'predicted', average, warn_for)\n",
      "/home/mks/envs/intent_script/lib/python3.6/site-packages/sklearn/metrics/classification.py:1135: UndefinedMetricWarning: Precision is ill-defined and being set to 0.0 due to no predicted samples.\n",
      "  'precision', 'predicted', average, warn_for)\n"
     ]
    }
   ],
   "source": [
    "dataset = init_dataset()\n",
    "\n",
    "conf_0['name'] = 'LGBMClassifier'\n",
    "conf_0['op_type'] = 'model'\n",
    "LGBM = skmodel(LGBMClassifier, conf_0)\n",
    "\n",
    "# (Speller, spl_conf),\n",
    "pipe_3 = [(Tokenizer, ), (Lemmatizer,), (concat, None), (tfidf_, tfidf_conf_2),\n",
    "          (LGBM,), (GetResultLinear_W,)]\n",
    "pipeline_6 = Pipeline(pipe_3, mode='train', output=None)\n",
    "pipeline_7 = Pipeline(pipe_3, mode='infer', output='dataset')\n",
    "\n",
    "res = pipeline_7.run(dataset)"
   ]
  },
  {
   "cell_type": "markdown",
   "metadata": {},
   "source": [
    "# Вывод Результатов"
   ]
  },
  {
   "cell_type": "code",
   "execution_count": 19,
   "metadata": {},
   "outputs": [
    {
     "name": "stdout",
     "output_type": "stream",
     "text": [
      "The best model: LinearSVC\n"
     ]
    },
    {
     "data": {
      "text/html": [
       "<div>\n",
       "<style scoped>\n",
       "    .dataframe tbody tr th:only-of-type {\n",
       "        vertical-align: middle;\n",
       "    }\n",
       "\n",
       "    .dataframe tbody tr th {\n",
       "        vertical-align: top;\n",
       "    }\n",
       "\n",
       "    .dataframe thead th {\n",
       "        text-align: right;\n",
       "    }\n",
       "</style>\n",
       "<table border=\"1\" class=\"dataframe\">\n",
       "  <thead>\n",
       "    <tr style=\"text-align: right;\">\n",
       "      <th></th>\n",
       "      <th>Accuracy</th>\n",
       "      <th>F1 macro</th>\n",
       "      <th>F1 weighted</th>\n",
       "    </tr>\n",
       "    <tr>\n",
       "      <th>Models</th>\n",
       "      <th></th>\n",
       "      <th></th>\n",
       "      <th></th>\n",
       "    </tr>\n",
       "  </thead>\n",
       "  <tbody>\n",
       "    <tr>\n",
       "      <th>LGBMClassifier</th>\n",
       "      <td>0.643836</td>\n",
       "      <td>0.512065</td>\n",
       "      <td>0.632016</td>\n",
       "    </tr>\n",
       "    <tr>\n",
       "      <th>Linear Regression</th>\n",
       "      <td>0.602740</td>\n",
       "      <td>0.372529</td>\n",
       "      <td>0.559509</td>\n",
       "    </tr>\n",
       "    <tr>\n",
       "      <th>LinearSVC</th>\n",
       "      <td>0.684932</td>\n",
       "      <td>0.532844</td>\n",
       "      <td>0.668673</td>\n",
       "    </tr>\n",
       "    <tr>\n",
       "      <th>RandomForestClassifier</th>\n",
       "      <td>0.599089</td>\n",
       "      <td>0.410288</td>\n",
       "      <td>0.575240</td>\n",
       "    </tr>\n",
       "    <tr>\n",
       "      <th>cnn</th>\n",
       "      <td>0.136760</td>\n",
       "      <td>0.058972</td>\n",
       "      <td>0.125233</td>\n",
       "    </tr>\n",
       "  </tbody>\n",
       "</table>\n",
       "</div>"
      ],
      "text/plain": [
       "                        Accuracy  F1 macro  F1 weighted\n",
       "Models                                                 \n",
       "LGBMClassifier          0.643836  0.512065     0.632016\n",
       "Linear Regression       0.602740  0.372529     0.559509\n",
       "LinearSVC               0.684932  0.532844     0.668673\n",
       "RandomForestClassifier  0.599089  0.410288     0.575240\n",
       "cnn                     0.136760  0.058972     0.125233"
      ]
     },
     "execution_count": 19,
     "metadata": {},
     "output_type": "execute_result"
    }
   ],
   "source": [
    "from script.core.utils import scrab_data, get_table, plot_i, plot_j, plot_k\n",
    "\n",
    "path = './results/logs/2018-3-25.txt'\n",
    "info = scrab_data(path)\n",
    "table, [name_best_model, best_model] = get_table(info)\n",
    "\n",
    "print('The best model: {}'.format(name_best_model))\n",
    "table"
   ]
  },
  {
   "cell_type": "markdown",
   "metadata": {},
   "source": [
    "## У cnn модели такой маленький скор из-за бага оценки, при обучении на валиде она показывала нормальные результаты для 2-х эпох. Не успел оперативно отловить. Исправлю."
   ]
  },
  {
   "cell_type": "code",
   "execution_count": 20,
   "metadata": {},
   "outputs": [
    {
     "name": "stderr",
     "output_type": "stream",
     "text": [
      "2018-03-25 11:24:18.624 DEBUG in 'matplotlib.font_manager'['font_manager'] at line 1354: findfont: Matching :family=sans-serif:style=normal:variant=normal:weight=normal:stretch=normal:size=10.0 to DejaVu Sans ('/home/mks/intent/lib/python3.6/site-packages/matplotlib/mpl-data/fonts/ttf/DejaVuSans.ttf') with score of 0.050000\n",
      "2018-03-25 11:24:18.685 DEBUG in 'matplotlib.font_manager'['font_manager'] at line 1354: findfont: Matching :family=sans-serif:style=normal:variant=normal:weight=normal:stretch=normal:size=12.0 to DejaVu Sans ('/home/mks/intent/lib/python3.6/site-packages/matplotlib/mpl-data/fonts/ttf/DejaVuSans.ttf') with score of 0.050000\n"
     ]
    },
    {
     "data": {
      "image/png": "[encoded data removed]",
      "text/plain": [
       "<Figure size 720x432 with 1 Axes>"
      ]
     },
     "metadata": {},
     "output_type": "display_data"
    },
    {
     "data": {
      "image/png": "[encoded data removed]",
      "text/plain": [
       "<Figure size 720x432 with 1 Axes>"
      ]
     },
     "metadata": {},
     "output_type": "display_data"
    },
    {
     "data": {
      "image/png": "[encoded data removed]",
      "text/plain": [
       "<Figure size 720x432 with 1 Axes>"
      ]
     },
     "metadata": {},
     "output_type": "display_data"
    }
   ],
   "source": [
    "plot_i('2018-3-25')"
   ]
  },
  {
   "cell_type": "markdown",
   "metadata": {},
   "source": [
    "# Значение F1-wighted меры, для каждого отдельного класса (лучшая модель)"
   ]
  },
  {
   "cell_type": "code",
   "execution_count": 21,
   "metadata": {},
   "outputs": [
    {
     "data": {
      "image/png": "[encoded data removed]",
      "text/plain": [
       "<Figure size 720x432 with 1 Axes>"
      ]
     },
     "metadata": {},
     "output_type": "display_data"
    },
    {
     "data": {
      "image/png": "[encoded data removed]",
      "text/plain": [
       "<Figure size 720x432 with 1 Axes>"
      ]
     },
     "metadata": {},
     "output_type": "display_data"
    },
    {
     "data": {
      "image/png": "[encoded data removed]",
      "text/plain": [
       "<Figure size 720x432 with 1 Axes>"
      ]
     },
     "metadata": {},
     "output_type": "display_data"
    },
    {
     "data": {
      "image/png": "[encoded data removed]",
      "text/plain": [
       "<Figure size 720x432 with 1 Axes>"
      ]
     },
     "metadata": {},
     "output_type": "display_data"
    }
   ],
   "source": [
    "plot_k('2018-3-25')"
   ]
  },
  {
   "cell_type": "markdown",
   "metadata": {},
   "source": [
    "## Все изорбражения и таблица, автоматически сохраняются в отдельную папку."
   ]
  },
  {
   "cell_type": "markdown",
   "metadata": {},
   "source": [
    "# Плюсы:"
   ]
  },
  {
   "cell_type": "markdown",
   "metadata": {},
   "source": [
    "### - По моему сугубо личному мнению, вполне удобно для использования."
   ]
  },
  {
   "cell_type": "markdown",
   "metadata": {},
   "source": [
    "### - Довольно просто прикрутить подбор гиперпараметров у моделей"
   ]
  },
  {
   "cell_type": "markdown",
   "metadata": {},
   "source": [
    "### - Архитектура очень гибка и позволяет делать то что обычный пайплайн из Sklearn-a сделать не смог. Например разбить текст на токены, каждому токену сопоставить его эмбеддинг, а потом взвесить эти эмбеддинги tf-idf коэфициентами, чтобы получить эмбеддинг одного предложения. Выполнить такое преобразование невозможно в рамках пайплайна sklearn-a, а здесь можно очень просто реализовать либо как две последовательные операции, либо как одну."
   ]
  },
  {
   "cell_type": "markdown",
   "metadata": {},
   "source": [
    "### - Архитектура пайплайна позволяет, получать при его прохождении какие-нибудь данные, необходимые для модели, и спокойно довозить до нужной позиции пайплайна."
   ]
  },
  {
   "cell_type": "markdown",
   "metadata": {},
   "source": [
    "### - Оборачивать модели в местные классы вроде как тоже не очень сложно"
   ]
  },
  {
   "cell_type": "markdown",
   "metadata": {},
   "source": [
    "### - Вроде как есть неплохой потенциал для дальнейшего развития"
   ]
  },
  {
   "cell_type": "markdown",
   "metadata": {},
   "source": [
    "# Минусы:"
   ]
  },
  {
   "cell_type": "markdown",
   "metadata": {},
   "source": [
    "### - На данный момент в пайплайне нету серьёзной защиты стыков между операциями по типу данных. (Исправим)"
   ]
  },
  {
   "cell_type": "markdown",
   "metadata": {},
   "source": [
    "### - Самый большой минус на данный момент, по моему мнению в том, что между операциями движется весь датасет целиком, это понятное дело затратно по памяти, особенно когда векторизуем текст для нейронок. Хотелось бы что мы могли гонять по пайплайну отдельные батчи, с нужного нам момента."
   ]
  },
  {
   "cell_type": "markdown",
   "metadata": {},
   "source": [
    "### - Базовые модели можно ещё дополировывать"
   ]
  },
  {
   "cell_type": "markdown",
   "metadata": {},
   "source": [
    "# Дальнейшие планы:"
   ]
  },
  {
   "cell_type": "markdown",
   "metadata": {},
   "source": [
    "### 1) Написать генератор конфигов пайплайнов и генератор конфигов для отдельных моделей. (За понедельник думаю управлюсь)"
   ]
  },
  {
   "cell_type": "markdown",
   "metadata": {},
   "source": [
    "### 2) Написать класс PipelineManager(), который будет управлять всем действом связанным с прогонами пайплайнов и общего скоринга. Он должен будет генерировать разные пайплайны, с разными параметрами, поочерёдно их запускать, управлять подгрузкой данных, для уже совершённой предобработки, и т.д. (Вт-Чт (Пт думаю максимум))"
   ]
  },
  {
   "cell_type": "markdown",
   "metadata": {},
   "source": [
    "### 3) Написать отдельный обёртчик для моделей на Keras. У таких моделей хороший и структурированный интерфес, поэтому для него не сложно будет написать крутой класс обёртчик, которому можно будет скормить только скомпилированный граф, или функцию которая это делает. Тогда для таких моделе писанины сильно сократиться. (Например в случае модели Дили код с 512 строчек сократился бы до 40) (Выходные)"
   ]
  },
  {
   "cell_type": "markdown",
   "metadata": {},
   "source": [
    "### 4) Устроить полный тест на Snips и Вкусвилле"
   ]
  },
  {
   "cell_type": "markdown",
   "metadata": {},
   "source": [
    "### 5) Хотелось бы такой волшебный обёртчик и для моделей на tf написать. но это задача уже куда сложне, но можно подумать."
   ]
  },
  {
   "cell_type": "markdown",
   "metadata": {},
   "source": [
    "### 6) Хочется добавить блендинг моделей"
   ]
  },
  {
   "cell_type": "markdown",
   "metadata": {},
   "source": [
    "### 7) Расширять функционал"
   ]
  },
  {
   "cell_type": "code",
   "execution_count": null,
   "metadata": {},
   "outputs": [],
   "source": []
  }
 ],
 "metadata": {
  "kernelspec": {
   "display_name": "Python 3",
   "language": "python",
   "name": "python3"
  },
  "language_info": {
   "codemirror_mode": {
    "name": "ipython",
    "version": 3
   },
   "file_extension": ".py",
   "mimetype": "text/x-python",
   "name": "python",
   "nbconvert_exporter": "python",
   "pygments_lexer": "ipython3",
   "version": "3.6.3"
  }
 },
 "nbformat": 4,
 "nbformat_minor": 2
}
